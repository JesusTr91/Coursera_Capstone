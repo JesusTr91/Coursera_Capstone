{
 "cells": [
  {
   "cell_type": "markdown",
   "metadata": {},
   "source": [
    "# Applied Data Science Capstone of IBM Course \n",
    "\n",
    "## Introduction\n",
    "\n",
    "The goal of this project it's to help people explore facilities around neighborhods to make smart and efficient desicion on selecting a good place to live. It can be applied to many different situations such as: exploring the nightlife of a city, buy a house depending on the near facilities that suround the property, look for hotels near good restaurants when you travel, etc. \n",
    "\n",
    "This project aims analyse the features for a people interested in living at this area to search the best neighborhood as a comparative analysis between neighborhoods. The features can include housing price, school ratings, crime rates, road connectivity, weather conditions, good management for emergency, water resources both freash and waste water and excrement conveyed in sewers and recreational facilities.\n",
    "\n",
    "For this project we are going to work with the following scenario:\n",
    "As an entrepeneur, one of my dreams is to open a craft brewery and since we are going to work with Toronto' data, I'm going to simulate where to open this bussines. There are several more factors when it comes to opening a bussines, but this project will help to gather data and get a starting point to locate a good spot.\n",
    "\n",
    "Location:\n",
    "Scarborough it's one of the most diverse and multicultural areas in the Greater Toronto Area. Although immigration has become a hot topic over the past few years with more governments seeking more restrictions on immigrants and refugees, the general trend of immigration into Canada has been one of on the rise.\n",
    "\n",
    "Foursquare API:\n",
    "We will use Four-square API as data source. This plataform it's a location data provider where we can gather information of all manner of venues and events within our area of interest. The API returns a JSON file that we can convert into a dataframe.\n",
    "\n",
    "Work Flow:\n",
    "Using credentials of Foursquare API features of near-by places of the neighborhoods would be mined. Due to http request limitations the number of places per neighborhood parameter would reasonably be set to 100 and the radius parameter would be set to 1000.\n",
    "\n",
    "Clustering Approach:\n",
    "To compare the similarities of two cities, we decided to explore neighborhoods, segment them, and group them into clusters to find similar neighborhoods in Toronto. To be able to do that, we need to cluster data using k-means clustering algorithm."
   ]
  }
 ],
 "metadata": {
  "kernelspec": {
   "display_name": "Python 3",
   "language": "python",
   "name": "python3"
  },
  "language_info": {
   "codemirror_mode": {
    "name": "ipython",
    "version": 3
   },
   "file_extension": ".py",
   "mimetype": "text/x-python",
   "name": "python",
   "nbconvert_exporter": "python",
   "pygments_lexer": "ipython3",
   "version": "3.8.5"
  }
 },
 "nbformat": 4,
 "nbformat_minor": 4
}
