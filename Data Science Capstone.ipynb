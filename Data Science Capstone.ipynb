{
 "cells": [
  {
   "cell_type": "markdown",
   "metadata": {},
   "source": [
    "# Applied Data Science Capstone of IBM Course on Coursera\n",
    "\n",
    "This notebook is the final project of the IBM Data Science Course.\n",
    "\n",
    "The scenario is the following:\n",
    "\n",
    "You live on the West side of the City of Toronto in Canada. However you recive a good job offer on the other side of the city, and  given the far distance from your current place, you must move if you decide to accept the offer. \n",
    "\n",
    "Now, you want to determine how good are the neighborhoods on that other side of the city, wondering if they are as good as your current neighborhood or not, or  atleast find decent neighborhood that will be close to your new job.\n"
   ]
  },
  {
   "cell_type": "code",
   "execution_count": 1,
   "metadata": {},
   "outputs": [
    {
     "name": "stdout",
     "output_type": "stream",
     "text": [
      "Hello Capstone Project Course!\n"
     ]
    }
   ],
   "source": [
    "import pandas as pd\n",
    "import numpy as np\n",
    "\n",
    "print(\"Hello Capstone Project Course!\")"
   ]
  }
 ],
 "metadata": {
  "kernelspec": {
   "display_name": "Python 3",
   "language": "python",
   "name": "python3"
  },
  "language_info": {
   "codemirror_mode": {
    "name": "ipython",
    "version": 3
   },
   "file_extension": ".py",
   "mimetype": "text/x-python",
   "name": "python",
   "nbconvert_exporter": "python",
   "pygments_lexer": "ipython3",
   "version": "3.8.5"
  }
 },
 "nbformat": 4,
 "nbformat_minor": 4
}
